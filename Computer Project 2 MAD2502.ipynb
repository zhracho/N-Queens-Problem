{
 "cells": [
  {
   "cell_type": "code",
   "execution_count": 1,
   "id": "ea9e9e20",
   "metadata": {},
   "outputs": [],
   "source": [
    "import numpy as np"
   ]
  },
  {
   "cell_type": "markdown",
   "id": "6deefaab",
   "metadata": {},
   "source": [
    "1. Construct a function called $N Queens(n)$ for any integer n larger than 4 where\n",
    "the output will be an $n ×n$ array filled with 0’s and 1’s where the 1’s represent a Queen\n",
    "on an $n ×n$ size chessboard so that no queen attacks another Queen, i.e. so that no two\n",
    "Queens are on the same row, column, or diagonal. You will need to import numpy for the\n",
    "arrays. Use two for-loops and implement either continue or break in your code."
   ]
  },
  {
   "cell_type": "code",
   "execution_count": 3,
   "id": "37602930",
   "metadata": {},
   "outputs": [],
   "source": [
    "def isRow(board, row, n):\n",
    "    '''\n",
    "    Checks whether a row is available for a queen to be placed. Returns True if available, False if otherwise\n",
    "    Input: \n",
    "    Board: 2-D Numpy Matrix\n",
    "    Row: Integer (iterates through the columns in the board to check the row)\n",
    "    n: Integer (the given dimension of the board provided by the user)\n",
    "    '''\n",
    "\n",
    "    for i in range(n):\n",
    "        \n",
    "        if board[row, i] == 1:\n",
    "            return False\n",
    "        \n",
    "    return True\n",
    "\n",
    "def isColumn(board, column, n):\n",
    "    '''\n",
    "    Checks whether a column is available for a queen to be placed. Returns True if available, False if otherwise\n",
    "    Input: \n",
    "    Board: 2-D Numpy Matrix\n",
    "    Column: Integer (iterates through the rows in the board to check the row)\n",
    "    n: Integer (the given dimension of the board provided by the user)\n",
    "    '''\n",
    "\n",
    "    for i in range(n):\n",
    "        if board[i,column] == 1:\n",
    "            return False\n",
    "    \n",
    "    return True\n",
    "\n",
    "def isDiagonalRight(board, row, column, n):\n",
    "    '''\n",
    "    Checks whether the right diagonal is available for a queen to be placed. Returns True if available, False if otherwise\n",
    "    Input: \n",
    "    Board: 2-D Numpy Matrix\n",
    "    Row: Integer (iterates through the columns in the board to check the row)\n",
    "    Column: Integer (iterates through the rows in the board to check the columns)\n",
    "    n: Integer (the given dimension of the board provided by the user)\n",
    "    '''\n",
    "\n",
    "    #Create a copy of each of the variables as we need to reference them both in the future\n",
    "    rowCopy = row\n",
    "    columnCopy = column\n",
    "    \n",
    "    #Loop that checks the upper diagonal, goes back a row and increments the column\n",
    "    while row >= 0 and column <= n-1:\n",
    "        if board[row, column] == 1:\n",
    "            return False\n",
    "        \n",
    "        row -= 1\n",
    "        column += 1\n",
    "    \n",
    "    #Loop that checks the lower diagonal, goes down a row and decrements the column, going left\n",
    "    while rowCopy <= n-1 and columnCopy >= 0:\n",
    "        if board[rowCopy, columnCopy] == 1:\n",
    "            return False\n",
    "        \n",
    "        rowCopy += 1\n",
    "        columnCopy -= 1\n",
    "        \n",
    "    return True\n",
    "\n",
    "def isDiagonalLeft(board, row, column, n):\n",
    "    '''\n",
    "    Checks whether the left diagonal is available for a queen to be placed. Returns True if available, False if otherwise\n",
    "    Input: \n",
    "    Board: 2-D Numpy Matrix\n",
    "    Row: Integer (iterates through the columns in the board to check the row)\n",
    "    Column: Integer (iterates through the rows in the board to check the columns)\n",
    "    n: Integer (the given dimension of the board provided by the user)\n",
    "    '''\n",
    "    \n",
    "    rowCopy = row\n",
    "    columnCopy = column\n",
    "    \n",
    "    #Loop that checks the lower left diagonal, goes down a row and decrements the column, moving left\n",
    "    while row >= 0 and column >= 0:\n",
    "        if board[row, column] == 1:\n",
    "            return False\n",
    "        \n",
    "        row -= 1\n",
    "        column -= 1\n",
    "    \n",
    "    #Loop that checks the upper right diagonal, moves down a row while moving right on the board for the column\n",
    "    while rowCopy <= n-1 and columnCopy <= n-1:\n",
    "        if board[rowCopy, columnCopy] == 1:\n",
    "            return False\n",
    "        \n",
    "        rowCopy +=1\n",
    "        columnCopy +=1\n",
    "    \n",
    "    \n",
    "    return True\n",
    "\n",
    "\n",
    "def isAvailable(board,row, column, n):\n",
    "    '''\n",
    "    Combines all of the previous functions to check whether a space is available for queen placement\n",
    "    Input: \n",
    "    Board: 2-D Numpy Matrix\n",
    "    Row: Integer (iterates through the columns in the board to check the row)\n",
    "    Column: Integer (iterates through the rows in the board to check the columns)\n",
    "    n: Integer (the given dimension of the board provided by the user)\n",
    "    '''\n",
    "    \n",
    "    #Checks whether an entire space is available (rows, column, and diagonals)\n",
    "    if(isRow(board,row,n) and isColumn(board, column, n) and isDiagonalRight(board, row,column,n) and isDiagonalLeft(board, row, column,n)):\n",
    "        return True\n",
    "    \n",
    "    return False\n",
    "\n",
    "def queenPosition(board, column, n):\n",
    "    '''\n",
    "    Checks the current position of a queen when given the column, this makes looping through the board and incrementing queens easier\n",
    "    Returns the row position\n",
    "    Input: \n",
    "    Board: 2-D Numpy Matrix\n",
    "    Column: Integer (iterates through the rows in the board to check the columns)\n",
    "    n: Integer (the given dimension of the board provided by the user)\n",
    "    '''\n",
    "    \n",
    "    if column != n:\n",
    "        \n",
    "        for i in range(n):\n",
    "            if board[i, column] == 1:\n",
    "                return i\n",
    "            \n",
    "    \n",
    "def NQueens(n):\n",
    "    '''\n",
    "    Creates a board with the maximum number of queens possible given the dimensions by the users without them attacking eachother\n",
    "    Input: \n",
    "    n: Integer (the given dimension of the board provided by the user)\n",
    "    '''\n",
    "    \n",
    "    #Create a two dimensional board of 0's with rows and columns of size n\n",
    "    board =  np.zeros((n,n))\n",
    "    column = 0\n",
    "    row = 0\n",
    "    \n",
    "    #Loop ensures that a negative index or an out of bounds index cannot be accessed for the columns\n",
    "    while (column < n) and (column >= 0):\n",
    "        #Loop ensures that a negative index or an out of bounds index cannot be accessed for the rows\n",
    "\n",
    "        while (row < n) and (row >=0):\n",
    "            #If a certain spot is available, a queen is able to be placed\n",
    "            #The row is reset, and now it moves on to the next column and breaks the loop\n",
    "            if isAvailable(board,row,column, n):\n",
    "                board[row, column] = 1\n",
    "                    \n",
    "                column += 1\n",
    "                row = 0\n",
    "                break\n",
    "            else:\n",
    "                #Checks whether a queen falls off the board\n",
    "                if (row == n-1):\n",
    "                    #Moves on to the previous column\n",
    "                    column -= 1                \n",
    "                \n",
    "                    #Since we dont want to access an out of bounds index, a special case is exhibited\n",
    "                    if (queenPosition(board,column,n) == n-1):\n",
    "                        #Cleares the entire column\n",
    "                        board[:, column] = 0\n",
    "                        #Decrements the row again\n",
    "                        column -= 1\n",
    "                        \n",
    "                        #Accesses the row of the previous queen now that we decremented manually and increments one\n",
    "                        row = queenPosition(board, column, n)\n",
    "                        row += 1\n",
    "                        \n",
    "                        #Clears the entire row again and then repeats\n",
    "                        board[:, column] = 0\n",
    "                        break\n",
    "                    \n",
    "                    #If it's not out of bounds still accesses the row of the previous queen and increments by one    \n",
    "                    row = queenPosition(board, column, n)\n",
    "                    row += 1\n",
    "                    \n",
    "                    #Wipes out the entire column\n",
    "                    board[:, column] = 0\n",
    "                    break\n",
    "                    \n",
    "                else:\n",
    "                    #If it doesnt fall off or is not available, moves on to the next row and continues\n",
    "                    row += 1\n",
    "                    break\n",
    "                \n",
    "    return board\n",
    "            "
   ]
  },
  {
   "cell_type": "code",
   "execution_count": 7,
   "id": "796ed30e",
   "metadata": {},
   "outputs": [
    {
     "data": {
      "text/plain": [
       "array([[1., 0., 0., 0., 0., 0., 0., 0.],\n",
       "       [0., 0., 0., 0., 0., 0., 1., 0.],\n",
       "       [0., 0., 0., 0., 1., 0., 0., 0.],\n",
       "       [0., 0., 0., 0., 0., 0., 0., 1.],\n",
       "       [0., 1., 0., 0., 0., 0., 0., 0.],\n",
       "       [0., 0., 0., 1., 0., 0., 0., 0.],\n",
       "       [0., 0., 0., 0., 0., 1., 0., 0.],\n",
       "       [0., 0., 1., 0., 0., 0., 0., 0.]])"
      ]
     },
     "execution_count": 7,
     "metadata": {},
     "output_type": "execute_result"
    }
   ],
   "source": [
    "NQueens(8)"
   ]
  },
  {
   "cell_type": "markdown",
   "id": "0c6f9e47",
   "metadata": {},
   "source": [
    "2. We will modify the code located in Lecture Notes for Module 1 called bisec\n",
    "tion.ipynb. Alter the code for the function $bisection(f, a, b, tol, show = False)$\n",
    "to implement what we called the Modified Bisection method. Call this new function\n",
    "$modified bisection(f, a, b, tol, show = False)$ Let $L(x)$ be the line between $(a, f (a))$\n",
    "and $(b, f (b))$. Then find the root of the line, and call it c and use that c in place of the\n",
    "regular one from the bisection method. Use that to answer the following questions."
   ]
  },
  {
   "cell_type": "code",
   "execution_count": 8,
   "id": "e193eab6",
   "metadata": {},
   "outputs": [],
   "source": [
    "def modified_bisection(f, a, b, tol, show = False):\n",
    "    \"\"\"\n",
    "    Input: a function f, two points x=a and x=b such that f(a)*f(b)<0 with a tolerane, tol. \n",
    "    Show is set to False and is for debugging purposes only. \n",
    "    Return: a root between a and b called c such that |f(c)|<tol\n",
    "    \"\"\"\n",
    "    #Also added a count to see which method was faster in terms of number of computations\n",
    "    count = 0\n",
    "    if (f(a)*f(b) > 0):  #uses IVT to show a root\n",
    "        raise ValueError(f\"No root detected between {a} and {b}\")\n",
    "    \n",
    "    #Also known as the secant method, keeps updating the c value\n",
    "    c = ((a * f(b)) - (b*f(a)))/ (f(b) - f(a))\n",
    "    while abs(f(c)) > tol:\n",
    "        count +=1\n",
    "        if f(a)*f(c) < 0:  #sign change between a and c\n",
    "            b = c\n",
    "        else:              #sign change between c and b\n",
    "            a = c\n",
    "        \n",
    "        c = ((a * f(b)) - (b*f(a))) / (f(b) - f(a)) #Set new approximation \n",
    "        \n",
    "        if show:\n",
    "            print (f\"low = {a}, high = {b}, approx = {c}\" )\n",
    "    \n",
    "\n",
    "    return c, count"
   ]
  },
  {
   "cell_type": "code",
   "execution_count": 16,
   "id": "3a6cf8a1",
   "metadata": {},
   "outputs": [],
   "source": [
    "def bisection(f, a, b, tol, show = False):\n",
    "    \"\"\"\n",
    "    Input: a function f, two points x=a and x=b such that f(a)*f(b)<0 with a tolerane, tol. \n",
    "    Show is set to False and is for debugging purposes only. \n",
    "    Return: a root between a and b called c such that |f(c)|<tol\n",
    "    \"\"\"\n",
    "    \n",
    "    #Also added a count to see which method was faster in terms of number of computations\n",
    "    count = 0\n",
    "    \n",
    "    if (f(a)*f(b) > 0):  #uses IVT to show a root\n",
    "        raise ValueError(f\"No root detected between {a} and {b}\")\n",
    "    \n",
    "    c = (a + b)/2\n",
    "    while abs(f(c)) > tol:\n",
    "        count += 1\n",
    "        if f(a)*f(c) < 0:  #sign change between a and c\n",
    "            b = c\n",
    "        else:              #sign change between c and b\n",
    "            a = c\n",
    "        \n",
    "        c = (a + b)/2    #Set new approximation \n",
    "        \n",
    "        if show:\n",
    "            print (f\"low = {a}, high = {b}, approx = {c}\" )\n",
    "    \n",
    "\n",
    "    return c, count"
   ]
  },
  {
   "cell_type": "code",
   "execution_count": 13,
   "id": "1687da28",
   "metadata": {},
   "outputs": [
    {
     "data": {
      "text/plain": [
       "(1.414141414141414, 5)"
      ]
     },
     "execution_count": 13,
     "metadata": {},
     "output_type": "execute_result"
    }
   ],
   "source": [
    "modified_bisection(lambda x: x**2 -2, 0, 2, 0.001)"
   ]
  },
  {
   "cell_type": "markdown",
   "id": "ac5f6cb6",
   "metadata": {},
   "source": [
    "(a) Use both methods for $f (x) = ln(x)$ on $[0.5, 2]$ with TOL = 0.000001. Use the Magic\n",
    "Function %time to determine which one takes longer."
   ]
  },
  {
   "cell_type": "code",
   "execution_count": 14,
   "id": "12640e91",
   "metadata": {},
   "outputs": [
    {
     "name": "stdout",
     "output_type": "stream",
     "text": [
      "190 µs ± 2.05 µs per loop (mean ± std. dev. of 7 runs, 10,000 loops each)\n"
     ]
    }
   ],
   "source": [
    "%timeit modified_bisection(lambda x: np.log(x), 0.5, 2, 0.000001)"
   ]
  },
  {
   "cell_type": "code",
   "execution_count": 17,
   "id": "2222019a",
   "metadata": {},
   "outputs": [
    {
     "name": "stdout",
     "output_type": "stream",
     "text": [
      "120 µs ± 484 ns per loop (mean ± std. dev. of 7 runs, 10,000 loops each)\n"
     ]
    }
   ],
   "source": [
    "%timeit bisection(lambda x: np.log(x), 0.5, 2, 0.000001)"
   ]
  },
  {
   "cell_type": "markdown",
   "id": "766bc0b0",
   "metadata": {},
   "source": [
    "When comparing the two code blocks above, we can see that the **modified bisection** method takes longer to compute"
   ]
  },
  {
   "cell_type": "markdown",
   "id": "ef691b33",
   "metadata": {},
   "source": [
    "(b) Find a function (different from (a)) with settings where bisection is better than\n",
    "modified bisection."
   ]
  },
  {
   "cell_type": "code",
   "execution_count": 13,
   "id": "21cfe650",
   "metadata": {},
   "outputs": [
    {
     "name": "stdout",
     "output_type": "stream",
     "text": [
      "(1.2457275390625, 12)\n",
      "(1.2456485903322463, 822)\n"
     ]
    }
   ],
   "source": [
    "print(bisection(lambda x: x**5 - 3, 0, 5, .001))\n",
    "print(modified_bisection(lambda x: x**5 - 3 , 0, 5, .001))\n",
    "\n",
    "#Since the modified bisection method runs through the loop 822 times in comparison to the bisection method's 12 times\n",
    "#you can conclude the modified bisection method takes longer to compute"
   ]
  },
  {
   "cell_type": "markdown",
   "id": "9777a983",
   "metadata": {},
   "source": [
    "(c) Find a function (different from (a)) with settings where modified bisection is better\n",
    "than bisection."
   ]
  },
  {
   "cell_type": "code",
   "execution_count": 14,
   "id": "5a95b1f9",
   "metadata": {},
   "outputs": [
    {
     "name": "stdout",
     "output_type": "stream",
     "text": [
      "(3.14082566319585, 11)\n",
      "(0.0, 0)\n"
     ]
    }
   ],
   "source": [
    "print(bisection(lambda x: np.sin(x) , 0, np.pi, .001))\n",
    "print(modified_bisection(lambda x: np.sin(x) , 0, np.pi, .001))\n",
    "\n",
    "#Since the modified bisection method runs through the loop 0 times in comparison to the bisection method's 11 times\n",
    "#you can conclude the bisection method takes longer to compute"
   ]
  }
 ],
 "metadata": {
  "kernelspec": {
   "display_name": "Python 3 (ipykernel)",
   "language": "python",
   "name": "python3"
  },
  "language_info": {
   "codemirror_mode": {
    "name": "ipython",
    "version": 3
   },
   "file_extension": ".py",
   "mimetype": "text/x-python",
   "name": "python",
   "nbconvert_exporter": "python",
   "pygments_lexer": "ipython3",
   "version": "3.9.12"
  }
 },
 "nbformat": 4,
 "nbformat_minor": 5
}
